{
 "cells": [
  {
   "cell_type": "code",
   "execution_count": 1,
   "id": "f3fdc7e7",
   "metadata": {
    "_cell_guid": "b1076dfc-b9ad-4769-8c92-a6c4dae69d19",
    "_uuid": "8f2839f25d086af736a60e9eeb907d3b93b6e0e5",
    "execution": {
     "iopub.execute_input": "2021-11-06T15:45:12.000542Z",
     "iopub.status.busy": "2021-11-06T15:45:11.999871Z",
     "iopub.status.idle": "2021-11-06T15:45:12.026577Z",
     "shell.execute_reply": "2021-11-06T15:45:12.027137Z",
     "shell.execute_reply.started": "2021-11-06T15:36:45.140683Z"
    },
    "papermill": {
     "duration": 0.053647,
     "end_time": "2021-11-06T15:45:12.027475",
     "exception": false,
     "start_time": "2021-11-06T15:45:11.973828",
     "status": "completed"
    },
    "tags": []
   },
   "outputs": [
    {
     "name": "stdout",
     "output_type": "stream",
     "text": [
      "/kaggle/input/notebook388161bf19/__results__.html\n",
      "/kaggle/input/notebook388161bf19/headline_classifier.pt\n",
      "/kaggle/input/notebook388161bf19/__notebook__.ipynb\n",
      "/kaggle/input/notebook388161bf19/__output__.json\n",
      "/kaggle/input/notebook388161bf19/custom.css\n",
      "/kaggle/input/upworthy-packages/packages.csv\n",
      "/kaggle/input/bert-base-uncased/config.json\n",
      "/kaggle/input/bert-base-uncased/pytorch_model.bin\n",
      "/kaggle/input/bert-base-uncased/vocab.txt\n"
     ]
    }
   ],
   "source": [
    "# This Python 3 environment comes with many helpful analytics libraries installed\n",
    "# It is defined by the kaggle/python Docker image: https://github.com/kaggle/docker-python\n",
    "# For example, here's several helpful packages to load\n",
    "\n",
    "import numpy as np # linear algebra\n",
    "import pandas as pd # data processing, CSV file I/O (e.g. pd.read_csv)\n",
    "\n",
    "# Input data files are available in the read-only \"../input/\" directory\n",
    "# For example, running this (by clicking run or pressing Shift+Enter) will list all files under the input directory\n",
    "\n",
    "import os\n",
    "for dirname, _, filenames in os.walk('/kaggle/input'):\n",
    "    for filename in filenames:\n",
    "        print(os.path.join(dirname, filename))\n",
    "\n",
    "# You can write up to 20GB to the current directory (/kaggle/working/) that gets preserved as output when you create a version using \"Save & Run All\" \n",
    "# You can also write temporary files to /kaggle/temp/, but they won't be saved outside of the current session"
   ]
  },
  {
   "cell_type": "code",
   "execution_count": 2,
   "id": "3441f4c0",
   "metadata": {
    "execution": {
     "iopub.execute_input": "2021-11-06T15:45:12.060412Z",
     "iopub.status.busy": "2021-11-06T15:45:12.059395Z",
     "iopub.status.idle": "2021-11-06T15:45:13.189949Z",
     "shell.execute_reply": "2021-11-06T15:45:13.189419Z",
     "shell.execute_reply.started": "2021-11-06T15:36:49.537390Z"
    },
    "papermill": {
     "duration": 1.147635,
     "end_time": "2021-11-06T15:45:13.190092",
     "exception": false,
     "start_time": "2021-11-06T15:45:12.042457",
     "status": "completed"
    },
    "tags": []
   },
   "outputs": [
    {
     "name": "stdout",
     "output_type": "stream",
     "text": [
      "No GPU available, using the CPU instead.\n"
     ]
    }
   ],
   "source": [
    "import torch\n",
    "\n",
    "if torch.cuda.is_available():       \n",
    "    device = torch.device(\"cuda\")\n",
    "\n",
    "    print('There are %d GPU(s) available.' % torch.cuda.device_count())\n",
    "\n",
    "    print('We will use the GPU:', torch.cuda.get_device_name(0))\n",
    "\n",
    "else:\n",
    "    print('No GPU available, using the CPU instead.')\n",
    "    device = torch.device(\"cpu\")"
   ]
  },
  {
   "cell_type": "code",
   "execution_count": 3,
   "id": "0d884957",
   "metadata": {
    "execution": {
     "iopub.execute_input": "2021-11-06T15:45:13.227554Z",
     "iopub.status.busy": "2021-11-06T15:45:13.226730Z",
     "iopub.status.idle": "2021-11-06T15:45:25.079646Z",
     "shell.execute_reply": "2021-11-06T15:45:25.078863Z",
     "shell.execute_reply.started": "2021-11-06T15:36:53.219116Z"
    },
    "papermill": {
     "duration": 11.872897,
     "end_time": "2021-11-06T15:45:25.079856",
     "exception": false,
     "start_time": "2021-11-06T15:45:13.206959",
     "status": "completed"
    },
    "tags": []
   },
   "outputs": [
    {
     "name": "stderr",
     "output_type": "stream",
     "text": [
      "Some weights of the model checkpoint at /kaggle/input/bert-base-uncased were not used when initializing BertForSequenceClassification: ['cls.predictions.bias', 'cls.predictions.transform.dense.weight', 'cls.predictions.transform.dense.bias', 'cls.predictions.decoder.weight', 'cls.seq_relationship.weight', 'cls.seq_relationship.bias', 'cls.predictions.transform.LayerNorm.weight', 'cls.predictions.transform.LayerNorm.bias']\n",
      "- This IS expected if you are initializing BertForSequenceClassification from the checkpoint of a model trained on another task or with another architecture (e.g. initializing a BertForSequenceClassification model from a BertForPreTraining model).\n",
      "- This IS NOT expected if you are initializing BertForSequenceClassification from the checkpoint of a model that you expect to be exactly identical (initializing a BertForSequenceClassification model from a BertForSequenceClassification model).\n",
      "Some weights of BertForSequenceClassification were not initialized from the model checkpoint at /kaggle/input/bert-base-uncased and are newly initialized: ['classifier.weight', 'classifier.bias']\n",
      "You should probably TRAIN this model on a down-stream task to be able to use it for predictions and inference.\n"
     ]
    },
    {
     "data": {
      "text/plain": [
       "<All keys matched successfully>"
      ]
     },
     "execution_count": 3,
     "metadata": {},
     "output_type": "execute_result"
    }
   ],
   "source": [
    "from transformers import BertForSequenceClassification\n",
    "model = BertForSequenceClassification.from_pretrained(\"/kaggle/input/bert-base-uncased\",\n",
    "                                                      num_labels = 41,\n",
    "                                                      output_attentions = False, # Whether the model returns attentions weights.\n",
    "                                                      output_hidden_states = False)\n",
    "model.load_state_dict(torch.load('/kaggle/input/notebook388161bf19/headline_classifier.pt', map_location=torch.device('cpu')))"
   ]
  },
  {
   "cell_type": "code",
   "execution_count": 4,
   "id": "71ca9d8d",
   "metadata": {
    "execution": {
     "iopub.execute_input": "2021-11-06T15:45:25.127500Z",
     "iopub.status.busy": "2021-11-06T15:45:25.126466Z",
     "iopub.status.idle": "2021-11-06T15:45:27.162402Z",
     "shell.execute_reply": "2021-11-06T15:45:27.163063Z",
     "shell.execute_reply.started": "2021-11-06T15:39:31.697200Z"
    },
    "papermill": {
     "duration": 2.065894,
     "end_time": "2021-11-06T15:45:27.163257",
     "exception": false,
     "start_time": "2021-11-06T15:45:25.097363",
     "status": "completed"
    },
    "tags": []
   },
   "outputs": [],
   "source": [
    "df = pd.read_csv('/kaggle/input/upworthy-packages/packages.csv')\n",
    "headlines = df.headline.values"
   ]
  },
  {
   "cell_type": "code",
   "execution_count": 5,
   "id": "14ae23e5",
   "metadata": {
    "execution": {
     "iopub.execute_input": "2021-11-06T15:45:27.198158Z",
     "iopub.status.busy": "2021-11-06T15:45:27.197526Z",
     "iopub.status.idle": "2021-11-06T15:45:27.248834Z",
     "shell.execute_reply": "2021-11-06T15:45:27.248215Z",
     "shell.execute_reply.started": "2021-11-06T15:39:38.721954Z"
    },
    "papermill": {
     "duration": 0.069503,
     "end_time": "2021-11-06T15:45:27.248981",
     "exception": false,
     "start_time": "2021-11-06T15:45:27.179478",
     "status": "completed"
    },
    "tags": []
   },
   "outputs": [
    {
     "name": "stderr",
     "output_type": "stream",
     "text": [
      "/opt/conda/lib/python3.7/site-packages/transformers/tokenization_utils_base.py:1621: FutureWarning: Calling BertTokenizer.from_pretrained() with the path to a single file or url is deprecated and won't be possible anymore in v5. Use a model identifier or the path to a directory instead.\n",
      "  FutureWarning,\n"
     ]
    }
   ],
   "source": [
    "from transformers import BertTokenizer\n",
    "\n",
    "#Use lower case, as in our use case capitalisation style may differ from Huff Post\n",
    "tokenizer = BertTokenizer.from_pretrained('/kaggle/input/bert-base-uncased/vocab.txt', do_lower_case=True)"
   ]
  },
  {
   "cell_type": "code",
   "execution_count": 6,
   "id": "3f04e634",
   "metadata": {
    "execution": {
     "iopub.execute_input": "2021-11-06T15:45:27.284803Z",
     "iopub.status.busy": "2021-11-06T15:45:27.283818Z",
     "iopub.status.idle": "2021-11-06T15:45:27.297949Z",
     "shell.execute_reply": "2021-11-06T15:45:27.297394Z",
     "shell.execute_reply.started": "2021-11-06T15:39:42.361916Z"
    },
    "papermill": {
     "duration": 0.033261,
     "end_time": "2021-11-06T15:45:27.298093",
     "exception": false,
     "start_time": "2021-11-06T15:45:27.264832",
     "status": "completed"
    },
    "tags": []
   },
   "outputs": [],
   "source": [
    "#Clean data: remove 129000:130000\n",
    "headlines = list(headlines[:129000]) + list(headlines[130000:])"
   ]
  },
  {
   "cell_type": "code",
   "execution_count": 7,
   "id": "3c10f819",
   "metadata": {
    "execution": {
     "iopub.execute_input": "2021-11-06T15:45:27.342467Z",
     "iopub.status.busy": "2021-11-06T15:45:27.337054Z",
     "iopub.status.idle": "2021-11-06T15:47:02.171803Z",
     "shell.execute_reply": "2021-11-06T15:47:02.172366Z",
     "shell.execute_reply.started": "2021-11-06T15:39:44.435262Z"
    },
    "papermill": {
     "duration": 94.858733,
     "end_time": "2021-11-06T15:47:02.172550",
     "exception": false,
     "start_time": "2021-11-06T15:45:27.313817",
     "status": "completed"
    },
    "tags": []
   },
   "outputs": [
    {
     "data": {
      "text/plain": [
       "(tensor([[ 101, 2027, 1005,  ...,    0,    0,    0],\n",
       "         [ 101, 2027, 1005,  ...,    0,    0,    0],\n",
       "         [ 101, 2027, 1005,  ...,    0,    0,    0],\n",
       "         ...,\n",
       "         [ 101, 2027, 1005,  ...,    0,    0,    0],\n",
       "         [ 101, 2027, 1005,  ...,    0,    0,    0],\n",
       "         [ 101, 2027, 1005,  ...,    0,    0,    0]]),\n",
       " tensor([[1, 1, 1,  ..., 0, 0, 0],\n",
       "         [1, 1, 1,  ..., 0, 0, 0],\n",
       "         [1, 1, 1,  ..., 0, 0, 0],\n",
       "         ...,\n",
       "         [1, 1, 1,  ..., 0, 0, 0],\n",
       "         [1, 1, 1,  ..., 0, 0, 0],\n",
       "         [1, 1, 1,  ..., 0, 0, 0]]))"
      ]
     },
     "execution_count": 7,
     "metadata": {},
     "output_type": "execute_result"
    }
   ],
   "source": [
    "input_tokens = [] #tokenized input\n",
    "attention_masks = [] #indicates padded tokens\n",
    "encoded_dict = tokenizer(headlines,\n",
    "                             add_special_tokens = True, #For classification markers\n",
    "                             padding='longest',\n",
    "                             return_attention_mask = True, #To indicate useful data\n",
    "                             return_tensors = 'pt') #Pytorch\n",
    "input_tokens = encoded_dict['input_ids']\n",
    "attention_masks = encoded_dict['attention_mask']\n",
    "input_tokens, attention_masks"
   ]
  },
  {
   "cell_type": "code",
   "execution_count": 8,
   "id": "e6cfbba3",
   "metadata": {
    "execution": {
     "iopub.execute_input": "2021-11-06T15:47:02.208738Z",
     "iopub.status.busy": "2021-11-06T15:47:02.208083Z",
     "iopub.status.idle": "2021-11-06T15:47:02.212143Z",
     "shell.execute_reply": "2021-11-06T15:47:02.212729Z",
     "shell.execute_reply.started": "2021-11-06T15:44:39.335439Z"
    },
    "papermill": {
     "duration": 0.024172,
     "end_time": "2021-11-06T15:47:02.212927",
     "exception": false,
     "start_time": "2021-11-06T15:47:02.188755",
     "status": "completed"
    },
    "tags": []
   },
   "outputs": [
    {
     "data": {
      "text/plain": [
       "(torch.Size([149817, 48]), torch.Size([149817, 48]))"
      ]
     },
     "execution_count": 8,
     "metadata": {},
     "output_type": "execute_result"
    }
   ],
   "source": [
    "input_tokens.shape, attention_masks.shape"
   ]
  },
  {
   "cell_type": "code",
   "execution_count": 9,
   "id": "370173f8",
   "metadata": {
    "execution": {
     "iopub.execute_input": "2021-11-06T15:47:02.248614Z",
     "iopub.status.busy": "2021-11-06T15:47:02.247988Z",
     "iopub.status.idle": "2021-11-06T15:47:02.251468Z",
     "shell.execute_reply": "2021-11-06T15:47:02.252050Z",
     "shell.execute_reply.started": "2021-11-06T15:44:40.921139Z"
    },
    "papermill": {
     "duration": 0.022937,
     "end_time": "2021-11-06T15:47:02.252199",
     "exception": false,
     "start_time": "2021-11-06T15:47:02.229262",
     "status": "completed"
    },
    "tags": []
   },
   "outputs": [],
   "source": [
    "#Reduce size\n",
    "input_tokens = input_tokens[:10000, 0:48]\n",
    "attention_masks = attention_masks[:10000, 0:48]"
   ]
  },
  {
   "cell_type": "code",
   "execution_count": 10,
   "id": "bbd43579",
   "metadata": {
    "execution": {
     "iopub.execute_input": "2021-11-06T15:47:02.288338Z",
     "iopub.status.busy": "2021-11-06T15:47:02.287671Z",
     "iopub.status.idle": "2021-11-06T15:47:02.291839Z",
     "shell.execute_reply": "2021-11-06T15:47:02.292437Z",
     "shell.execute_reply.started": "2021-11-06T15:44:43.109079Z"
    },
    "papermill": {
     "duration": 0.023873,
     "end_time": "2021-11-06T15:47:02.292604",
     "exception": false,
     "start_time": "2021-11-06T15:47:02.268731",
     "status": "completed"
    },
    "tags": []
   },
   "outputs": [],
   "source": [
    "from torch.utils.data import TensorDataset, DataLoader, SequentialSampler\n",
    "test_dataset = TensorDataset(input_tokens, attention_masks)\n",
    "test_dl = DataLoader(test_dataset,\n",
    "                      sampler = SequentialSampler(test_dataset),\n",
    "                      batch_size = 64)"
   ]
  },
  {
   "cell_type": "code",
   "execution_count": 11,
   "id": "04bc5ec2",
   "metadata": {
    "execution": {
     "iopub.execute_input": "2021-11-06T15:47:02.328746Z",
     "iopub.status.busy": "2021-11-06T15:47:02.328098Z",
     "iopub.status.idle": "2021-11-06T15:47:02.331074Z",
     "shell.execute_reply": "2021-11-06T15:47:02.331618Z",
     "shell.execute_reply.started": "2021-11-06T15:44:45.137772Z"
    },
    "papermill": {
     "duration": 0.02265,
     "end_time": "2021-11-06T15:47:02.331794",
     "exception": false,
     "start_time": "2021-11-06T15:47:02.309144",
     "status": "completed"
    },
    "tags": []
   },
   "outputs": [],
   "source": [
    "results = []"
   ]
  },
  {
   "cell_type": "code",
   "execution_count": 12,
   "id": "8e69fe6d",
   "metadata": {
    "execution": {
     "iopub.execute_input": "2021-11-06T15:47:02.371417Z",
     "iopub.status.busy": "2021-11-06T15:47:02.370771Z",
     "iopub.status.idle": "2021-11-06T15:59:21.193984Z",
     "shell.execute_reply": "2021-11-06T15:59:21.193246Z"
    },
    "papermill": {
     "duration": 738.845831,
     "end_time": "2021-11-06T15:59:21.194145",
     "exception": false,
     "start_time": "2021-11-06T15:47:02.348314",
     "status": "completed"
    },
    "tags": []
   },
   "outputs": [
    {
     "name": "stdout",
     "output_type": "stream",
     "text": [
      "[11 11 11  7  7  7  7  7  7  7  7  1  4  1  1  1  1  1  1  1  1  1  5 26\n",
      " 12  9  7 32  7 12 20  8  1 17 31 11 16 16 16 16 12 12 12 12 12 20  4 20\n",
      "  4 18  1 16  1  1  1 16 16 16 16  7 14  7  8 17]\n",
      "[17 24  1  4  4  4  4  9  9  9  9  1  1  8  8  7  7  7  8  9  7  9  9  9\n",
      "  9 25  9  9  9  9  8  8  8  8  9  9  9 20  4  4  4  4  1  9  1 30 20  1\n",
      " 21 20  9  7  6 21 12 26  6 25  5  3  9 20 25 38]\n",
      "[ 7  4  4 20  4 25  4 25 20 25  5 28 28 28 28 32 32  4  6 20 32 20  6 38\n",
      "  5  5 20  5  5 25 25 25 25  4  8  8  7  7 32 10 10 10  4 11 10 25 34 20\n",
      "  4 32  6 20 20 20  4  7  4 23  9 12  8  8  7  7]\n",
      "[24 11 11  1  1 12 25  7 32  9  7 20 20 20 11  1 20 10 11 11 11 11 24 24\n",
      " 24 25 25 25 25  7  7  7  7  7  7  7 31 25 25 25 20 20  3  6  8  3  6  1\n",
      "  1  8  6  6  6  8  8 38 38 20 25 25 25  4  4 27]\n",
      "[ 7 23 22  1  7 13  7  1  1 25  9  6  6  6  8  1  4  7  7  4  1  7  4 25\n",
      " 20  9  9 12  7 16 16  6 16  7 20  6  3  9  4 21  9  7 26 10 21  7  7  7\n",
      "  7  7  7  7  7  7 20 32 20  7 20  7  8  8  8  8]\n",
      "[ 8  7  8 34  1  7  1 20  6  9 31 23 22 22 31 31 31 27 27 24  7  7  1 20\n",
      " 12  3  3  7 35 20  4 20 20 20  4  3 10 31 10 10 10  8 11  7 23 23  7  1\n",
      " 20  4  4  4  6 14  3 14  1  7  1 23  7 12  7 25]\n",
      "[ 4  4 31  9  1  1  1 36 36 36 36 36 36 25 35  7 25 25 11 11 16 14 11  4\n",
      "  4 20 14  4  4  6  4  4  4 32  4 22 31  7 31 32  1  1 10 37 25 23  9  1\n",
      " 25  4 31 31 31 31 31 31 10 25 25  5  4  4  5 23]\n",
      "[23 23  6  6  6  6  4  4  4  4 13 13 13 13 13  6  6  6 13 13 20  3  3 24\n",
      "  8  8 24 24  1 36  4 32 32 32 32 20  4  7  5 11  7  7  4 13  7 11  5  8\n",
      "  7  4  7  1  9  7  7  1  1  1 31 32  8  3  3  3]\n",
      "[ 3  5 14 23 27 11  4 38  8 31 24  9  9  9  9 24 24 24 24 24 24  7 32 15\n",
      " 32  7  7 31  9 32  8 16  7 15  6 26  4 26 31  9  9  3 26 26  7 13  7  7\n",
      " 32  4  7  6 20  8  8 31  1  7  8 25  7  7  7 38]\n",
      "[ 1  4  6  3  3 20 25  3 11 20 34 32 20 20 11 11 11 11 11 11 11 11 11 11\n",
      " 11 20 20 20 20 20 20 37 37  1 36  4  7  1 36  9  4  8  7  4  8  1 28  4\n",
      "  8  4 20 22 20 20 12  6  4  1 12 23 16 16 16 26]\n",
      "[ 7  7  4  9  4  4  5 23  4  7  4  7  7 21  4 23  9 12 11  7  7 11  5  5\n",
      " 10 32  6 11  1 11  9 16  4 20 26 11  9 38 11 23 25  7  4  4 25  1  1 20\n",
      " 20 25 23 23 23  9  3  7 23 20  8  4 20 25 23 23]\n",
      "[31  6 25 25 25  9  4 12  4  4 25 25 25  4  4  4  5 25 27 13 13 11  1  3\n",
      "  3  3  6 25 36  6  4 25  1 23  1  1  5  5  5  5  7 31  9  9 19 26 26  4\n",
      " 10  8 16 31  4  4 32 33 16 23 31 31 31 31 31 25]\n",
      "[25 25 25 25 25  7  9  9  4  4  4 11 31 32 32 38  9 15 11 37 37  7  7  4\n",
      " 11 20  7 32  7  7  7  7 11  9  4 29 14 20 11  7  7 16  4  3  8  1 20 20\n",
      "  4 21 21 21 38  4 11 31 11  7 11  7  1 16  8  8]\n",
      "[32 20 20 19 18  1  1  1  7 31 31 31 31  7  7  4  4 21  3  7  8 11 16 11\n",
      " 16  9  9  9  9  9  9  8  1  1 32  7  3  7  1  1  1 32  9  4  4  4  4  4\n",
      " 18 10 10 10 10  7  7  7  8  4  4  1  8  8  8  1]\n",
      "[ 1  1 31  6 25 12 22 11 33  7 20  7  8  8  8 20 32  8 23 29 39 25 31  7\n",
      "  5 12  8 31 31 31 31 31 31 31 25 21  8 21 21 21 21 21 21 21  0  0  0  0\n",
      " 20 20 32 14 32 14 30 31 20 31 18 25 25 18 25 18]\n",
      "[31  8  8  8  8  8 25 25  8 11 11 11 11  3 12 12 12 12 12  3 27 11  4  7\n",
      " 11  9  7  7  7  7 31 16 31 31 31 31  7  7  8 20 13 25 20 24 19 11 11  7\n",
      " 20  7  4 31 24 25  7  6 25  4  4  9  9 38 16  1]\n",
      "[20 11  9  7  7 20  8  3 20 20 20  7  7  7  7  7  7 20 20 20 20 20 25 36\n",
      "  8  7  7  7  4  6  3  3 20 20 20 20  6  6  7 31  7  7  7  7  7  7  7  7\n",
      "  8  7 25 25  1 25 25  1  1  1  1  1  7  4  4  4]\n",
      "[31  7 10 16 20 20 25 20  8  8  8  1  7  7  7 31  3  8 10  8 10 11  1  5\n",
      "  1  1 25 25 25 25 25  8  4  8  8  8  8  8  8  8  8  8  8 20 20  9  7  7\n",
      "  7  8  7 31 16  7  7  7  7  7 31 14  7 23 23  1]\n",
      "[20  7 34 32  7  4  7  7 20  7 20 20 20 32 20  4  4  4  8  0  1  4  7  8\n",
      " 20 20 20 20 20 20  8  8  8  8  8 14 14 14 14 14 14 14  4  1  6  6 20 20\n",
      " 20 20  1  1  8  1  7  1 20 20  1  7  9  9  9 34]\n",
      "[22 22 31  7  7  7  7  1  9 11 11  9  9  7  7  7  7 25  7  7 25  7  7 11\n",
      " 35 35 35  7  7 24 25 32  8  7  7  7  7 25  7 36  1 36 31 36 36 36 36 36\n",
      "  8  4  5 31  7 31  5 31  5 25 16 16 16 16  7 20]\n",
      "[20 20 20  7  7  7 22 22 22 22 11  7  7 27 11  7  7  7  7 14  4  4 11 11\n",
      "  8 10 10 25  4 11 31 31 31  5 25  4  4  4 31 31 16 16 16 10 10 10 10 10\n",
      "  8 10 10 10 16  7  7  7  7  3 27  4  8  8  7  7]\n",
      "[ 7 20  7  7 20 20 20  4  3 20 20 32 17 17  6 17  6  6  6  6 20 23 32 16\n",
      " 32 32 32  4  1  1  1  1 23  4  4  4  4 23 16  4  4 31  9  4 23  4  9  4\n",
      "  6 10 22  9 22 22  7 31 31 31 25 23  8  4  4 32]\n",
      "[32 20 32  9  9  9  9  4  4  4  4 31  8  8  8  8  7 25  7  7 22 10 10 10\n",
      " 10 10 10  4  8  8  8  8 10 23  3 24 22  8  8  8  8 10 10 10  9  9  9  9\n",
      "  9  9 37 37 37 37 37  9  8  8  8  8  9  9  8  1]\n",
      "[ 1  8  8  8  8  1  1  1  1  1 25 25 25 25  6  6  6  1 25  6 25 25 25  9\n",
      "  9  9  9  9  9  9 23 16 25  9  4 25  9 23  4  4  4  4  4  4  4  4  9 25\n",
      " 12  9  3 12  3  7 16 31 31 31 25  4  7 31  4  4]\n",
      "[ 4  4 13  7 24 24 24 24  3  3  3  3  3  3  3  3 24 24  3  1  1  1  1  1\n",
      " 36 36 36 36 36 36 36 36  4  4  4  5  3  3  3  3  3  4  4  3  4  4  4  4\n",
      "  4  7  4 13 11  1  1  7  3  8  4  7  7  7  7  7]\n",
      "[ 7  7  1  1  7  4  4 11  1 11 11 11  1  1  9 31 32 32 32 32 32 32 32 32\n",
      " 32  8  3  7  8  8  7  4  4  4  3  3  3  3  3  3  3  3  3 20 12  4  6 32\n",
      "  6 32 12  4  1  1  1  6  6  6  6  6  4  3  3  4]\n",
      "[32  8 11 31 25 25 25 25 25 23  4  4  6  6  6  6 31  4  0  0  0  0  0  0\n",
      "  0  0  0  4  6 18 32 31 31 23  9  9  9  9  4 32  8  8  8  8  4  4  4 32\n",
      " 16 16 16 26 32 20 26  4  4 19 19 19 26 26 26  1]\n",
      "[ 7  8  3 25 14 14 14 14 14 32  9  7  9  9  9  9  9 25 21  3 31 31 31 25\n",
      " 25 26 32  4  8  6  6  8 13  4  4  4  4  4 26  4 26  4 20 20 20 31 31 31\n",
      "  4  4 11 32  7  7  7  7  7  7  7 12  7  7  4  7]\n",
      "[ 7  4  4 12 32 32  4 32 28  8 12 13 13 13 13 13  7 12 12  4 12 12  4  4\n",
      "  8  8 32 32 32 32 32 31 32 31 31 31 31 27  8  7  4  8  3 25  3  3  8  8\n",
      "  8 32  8  8  8  8  8 31 14 14 14 14  1  1  1  1]\n",
      "[ 1 25  8 32 32 20  1  1  1  1 32  1 17  7  7  7  7  7  7  7  6  6  6  8\n",
      "  8  8  4  9  9  9  7  7  7  7  7  7  7  7  7  9  9  9  9  7  1  7  1  1\n",
      "  1  1  1 31 32  1  1  3  3  3  3 31 31  1 31  8]\n",
      "[ 8  8  8  8  8  8 37 37  8  8  8  1  1  1  1 12 12 12 12 12 37  9  9  9\n",
      " 36 36  6  6  6  6 14  3  7 31  4 31 25  1 28 36 36 36  8  5  5 22 25  1\n",
      "  4  4  9  9  6  6  6  9  9  9  9  9  9  9  9  9]\n",
      "[ 4  4  8  8  8  7  7  7  7  4  4  8  8 20 23 23 23 20  7  7  7  7  7  1\n",
      "  1  1  1  1  1  1  1  1  1  3 22  1 33  8  3  4 38 32 11 11 32  1  1 23\n",
      "  4  1  1  1  1  1 28 28 28 28 28 25 32 20 32 23]\n",
      "[12  1  1  9  4  4 12  4  8 20 23 23 23 23 12 12 12 12 20 20 20 20 12  4\n",
      " 20 20  4  6  8  8  8  8  8  6  4 20  4  4  4  4  5  4  5  3  3 10 10 10\n",
      " 10 10 10  1  1  1 23 20 20 23 20 20 23  6  6  6]\n",
      "[ 6  4 23 16  7  4 16  4  4 21 21 21 21 21 16  4  4  4 21  7 25 12  1  6\n",
      "  6  6  6  9 32  9 26 26  7  1  7 16  7  7  3  3  3  3  3  3  3 16  8  8\n",
      " 23 14 14 14 14 32 32 32  7  7  7  7 12  4  3  3]\n",
      "[ 4  4  1  4 16  3  4  4  4 16 16 16 16  4  4  4  4  4  4  4  4  4 14 14\n",
      "  3 19  6  6  6  6  6 23 23  3  3  3  7  7  9  9  9 12 23 23 12  3  4  4\n",
      "  4 16 32  4  4 31 32 32 31 16 31 25 25 14  8  1]\n",
      "[ 7  7  4  4  4  4  4 23  8  8 23  7  7  7  7  7  7 23  8  8  8  3  7  7\n",
      "  7 23 23 23 21 21 23 21 21 37 23  4  4  4 23  4 23  4  4  5  3  3  8  3\n",
      "  9  9  9  9  4  4 32 32  7  9  7  7 23 11 23 23]\n",
      "[23 23 11 11  4  4  5  5  5  5  5  5 10  5  8  8  1 36 32 32  5  5 10  8\n",
      " 10  8  8  8  5  5  8  8 23 25  1  1 31  1 31 19 19 19  6 25  1 32 18  4\n",
      " 20 20 32 32 32  1 11  1  1  1 11 11 11 11 11 11]\n",
      "[11 16 16 16 16 16 28  9  9  9 16 16 16 26 26 26 26  9  9  9  1 23 31 23\n",
      "  7  1  7  7  1  1  1  1  1  1  1  1  1 23 25 31 23 32 19 23  4  4 32 21\n",
      " 25  7  7  7 25 25 34  7 22 34 24 24 24 24  4  6]\n",
      "[ 4  1  1  1 28  4 11 11 31 31 10 31 31 11  4  4  4  6  4  6  4 20 20 20\n",
      "  6 31  6 18  7 20  7 10 10 10 10 23 23 23 23 23  7 30  7 32 32  1  6 32\n",
      " 32 32  3 22  4  8  8  4  4  4  4 18  9  9  9  9]\n",
      "[18 18 23 23 32 21 32 23 24  8 11 11 11 11  3 31  3 37  4 25 25 25 25 31\n",
      " 10 10 10 10 10 10 10 22  1  1  1 22  7  7  7  7 22 22  4 12 12 32 25 25\n",
      " 25  7 25  7  7  7  7 24 34 24 23 23 23 23 24 24]\n",
      "[34  3 12 31 25  7  7  7  7  7 24 24 24 37 24 24 15 15 15 15 15  9  9  9\n",
      "  9  9  9  9  9 31 31  9  4 20  4  4  4  4  4  4  9  9  9 11 11 11 11  6\n",
      "  6  6  6  6  6  6  6  4  4  4  9  9  9 20  4  4]\n",
      "[35 35 20 35 22 28 35 34 35  8  7  7  7  7 26 26 26 26 25 25 25 25  4  4\n",
      " 25 25  7  7  7  7 26 26 38 23 23 31  4  8 11 11 11 11 11 11 11  4 11 11\n",
      " 11 11  4 11  1  1  1  1  4 25 25 25 25 11 11 11]\n",
      "[11 26 26 26 26 26  1  1 20 20 20  7  7  4  4 26 26 26 26 38 10  6  7  7\n",
      "  7 38 24 31 31 31  7 20 20  5  5 25  5 24 24 24 20 20 20 20 24 25 11  3\n",
      "  7  7  7  7  7  7  7  3  3  3 21  7 31  7  4  4]\n",
      "[ 4 16  4  4  5  8  1  6  8  8  8  8 10  1  1  1  1  1 38  1  6  4  4  7\n",
      " 26 26 26 26 35 35  3  4  4  5 11  7 25 25 33 25 25 25 32 25 25 20 23  4\n",
      "  7 33 38  5 10 10  8  5 21 21 21  7  7  7  7 31]\n",
      "[31 31  5 25 25 25  7  7  7  5  5 10 10 10 10 23  8  4  8  8 38  9  9  9\n",
      "  9  9 11 11 13 15 15 15 15 31 31  7 33 31  8 11 20 20 20 20 20 20 20 20\n",
      " 20 20 20 20 36 20 25 25 25 25  9  8 37  7 24 25]\n",
      "[31 31  1  6  1  1  6  6  6  6 20 20 20 20 20 31 32 32 32 32 32 32 32  6\n",
      "  8  9  6 14 32 32  8  7 35 35 35 35  7  7  7 25  3  3 36 11 32  6  8  4\n",
      "  4 25  9 10  8  8  9 20 20  4 12 12 12 12 20 12]\n",
      "[11 11 11 11 24 24 24 24  9  9  9  9 38 19  0  4 31 25  8 25 31 11 14 14\n",
      " 14 14 14  7  7  9 11 16 23 19 19 22 22 22 22 22 22 22 22 21  5  5  5 38\n",
      " 11 25 38 31 31 38 38 30 30 30 30 24 24 24 24  5]\n",
      "[ 5 20  0  5 32  4 16 16 16 20 25 14 16 14  5  5  1 28 28 28 28 28 14 14\n",
      " 32  8  1 11 11  8 34 22  4  7  7  7 11 11 11 32 38 11 11 11 11  4  4  4\n",
      "  4 33  3 24  0  5  5  5  1  1  1  6  6  6  6 15]\n",
      "[25 25  4  4 32 31  4  4 13  4  4  9  9 25  4 29  4  4  7  8  3 31 14 14\n",
      " 14 14 14 14  5  4  8 21 21 21 21 20 20 20 20 20  7 20 32 16 32  4  7 25\n",
      " 25  7 20 20 20 20 20 20 20 32  5 25  4  5  7 11]\n",
      "[11 11 11 11  7  7  7  7  7  7  7 11 11 11 11 11 11 11 11  7  4 23  7 23\n",
      " 38 38 38 38  4  6 16  9  9  9  9  9  9 23  4  4  4  9  4 24 31  9  9  9\n",
      "  9  4  4  4  4  7  4  4 37 25 24  5 11 37 36  7]\n",
      "[ 7  7  7  7  8  9 31  7  7 38 32  7 25 13  7  7  7  7  7  7  7  4  7  7\n",
      "  4  1  1  1  1  6  6 11  7 13 13  4 25  4 16 16 16 16  8  8  8  8  8  8\n",
      "  8  8 31 31 20 21 21 21 32 32  8 20 31 24  9  9]\n",
      "[37  9 24  9 24 24  6  6 22  6  1  1  1  8  8  8  8  8  8  8  8 24  4  3\n",
      "  3 23 16 16 16 30 20  9  0 16 31 23  8  8  8  8  8  8 25 25 25 25 25  7\n",
      "  7 25 25 25 25 11  5  1 15 15  1 15 10 10 10 25]\n",
      "[ 8 31 31  5  5 31  7 23  3  3  3  7  7  7  7  8  8  5  5  5  8  8 34 27\n",
      " 32 30  6 27  8  8  8  4 25  3  9  3 31 35 35  9  1 17  4  3 22 22 22 22\n",
      " 22 18  8 11  1 11 11 22 18 18 18 20  7  9  4  8]\n",
      "[25 18  7  8  8  8  8 22  8  1  1  3 37 24  5  5  5  5  5  1  1  1 32  6\n",
      "  3  3  4 31 11  1  1  1  1  1 20 20 20 20  7  7 35  7 20 20  3 32  4  4\n",
      "  4  4 32 32 32 32 32 32 32 32  4  7  7 11 14  8]\n",
      "[ 8 14 16 23 11 11 11 11 11 11  8  8  8 24  3  4  4  3  4 25 23 31 25 27\n",
      " 27 27  4  4  4  4  7  7  7  8  4 20  8 21 20 21  7  7 35  4 20 20  8  1\n",
      " 13  4 13 13 13  8  8  5  8 20 20 25 31 31 32  8]\n",
      "[ 5 25 31  4  4  4 11  4  4  4 20 20 20 20 20 27  4 15 15 19  7  7  7  7\n",
      "  7 10 31  9 31  9  9  9  4  4 25 20 20 16 20 21 20 16 16 16 25  4  0  1\n",
      " 21 21 21 24  8 31  4  4  4  4  4  4  4  4 11 11]\n",
      "[11 11 11 25 25  8  8  8  8  8 13 31 31 11  7  7  5  7 23 32  4  9  8 20\n",
      "  3 13  8 25  1 13 11 32  1 25  9  9  6 24 19 19 20 20  9 11  9  9 15 15\n",
      " 15  4  9 20  1 32  9  9  9 31 31 16 31 11 11  1]\n",
      "[ 9  5  5  5  5  5  5 18 32 20 32  7  7  4  1  1  1  6  4  4  3 13  4  4\n",
      "  4  4 20 20 22 20  7  7  4  7 32 11  8  4 11  4  9  1  9 11 11 32  8  7\n",
      " 20 20 26 20  5  5 32  4 31 32  7  1  1  1  1 10]\n",
      "[21  9 12  6  4  4  4  4  5  4 23 23  8 11 25 11 31 36  5 25  4  6  6 25\n",
      " 25 25 25  5 16  5 28 28 28 28 16 28 16 16 24  1  1 32 32  7 32 32 34 32\n",
      "  4 32 32 25 31  4 14  8  8  4  8  4  3  8  8  8]\n",
      "[ 8  4 35 23  5  8 10 10  8  8  8  8  9 32  3 25 25 20  4 25 31  4  7 23\n",
      " 31 31 14  7 25 25  7 37  8  4 19  4 20 12 32  7  6  7  7 14  0  4 14  4\n",
      " 16 16 16 23 25 11 11  6  6  4 21  6  8 21  6  8]\n",
      "[ 8  8 11 26 26  7  4  4  4  8 25  8  8  4  8 24  9 20  8  8  8  5 32  7\n",
      "  4  3  4 21  1  5  4  7  3  4 21  7  1 33  3 25  7 25 25  9 16 16  4  9\n",
      "  9  9 25 38  7 34  7 31 20  4  9  8  7  8 21  8]\n",
      "[ 8  0 31  7  7  6  7 20 16  1  7  7  7  7  7  1 16 20  4 11 11 20 11 11\n",
      " 11 11  8 24 24 22  7 20 20 20  7 25 25  7 18 18 20 20 20  4  7  7 32  4\n",
      " 23 23  4  3  4 16  7  7  7  4  4  4  7  4  4 14]\n",
      "[14  8  8  8  8  8 10  7 31 31  4  6 20 20 20 31 23  9 31 10 10 10  1 10\n",
      " 35 10  7 20 20 23  8 25 23  4 23  0 32  1 32 32 32  8 23 24  5 12  9 23\n",
      " 16 32 32 32  8 31 24  4 16  4  4  4 25 31  4 16]\n",
      "[16  8 16 10 10 22 31 10  9 31 31  7  7  8 35 35  1  7  5  7  7  7 32 20\n",
      " 10  8  1  4 23  3 12  4  5  3  8 18 18  9  9  9 25  7  7  1  7  4  4  3\n",
      "  3  3  3  6  6  6 25  4  4  8  4  7  4  4  1 15]\n",
      "[25  4  4  1 16  1  1  1  1  1  1  1  1  7  1  1  7  7 14  7  7 16  7  9\n",
      "  9 25  5  7 20 20  7  7 20 20 20 20 32 33 25 32 32  1 31 14 35 26  4  7\n",
      "  7  7  7  7  7 11  7  1 21 25 31  7  7  4 25 31]\n",
      "[25 25 25  6  6  1  4 25 25 25 21  8  8  1  1  8  8  5 20 25 20 20  1  9\n",
      " 20 32 20  9  4 14 31  1  1 31  8 25 11 11  8  9  7  7  7  8 20 20  8  8\n",
      "  8 25 12 12  8  8  8  8  8  0  0  0  0  7  7  9]\n",
      "[32  9  7 20 20 20 20 32 32 32 32  1  1  7  7  4 16 31  8 23  5 25  4  4\n",
      "  8  7  7  7  1 20 32 32 32 32 32 32 11  1 12 12 12 12 12 34 34 34  7  7\n",
      " 12 12 12  4 23 23  8  4  4  4  4  4 36 36 35 15]\n",
      "[15 16 16 16 36 16 16 16  4  4  4  4 13  7  7  9  9  9  9  7 13  8  8 10\n",
      " 10 10 10 10 10  4 13 13 13 10 10 13 13 13 13 13  4 15  1  6  6  6  6 16\n",
      "  4  4  4  7  8  5  7 37  8  9  9  9  9 24 20  4]\n",
      "[ 9  8  9 18 18  7  4  4 20  4  4  4  4 32 18 11 11 13 13 13 18 18  7  4\n",
      " 27  6 32 18  4 20 20 20 25 20 18 20 18 18 18 18 25 25 16 25 18 32 32 32\n",
      "  8  8  4  9  9  9  9  9 30 21 22 22 22 22 16  4]\n",
      "[ 4 32 32 32  6 25  7 32 20  7  7 31 25 25 25 25 25  9  9 25  9  9 25 25\n",
      " 25 25 25  7  7  4  7  5  5  8 27  4  4  4  4  4  4  4 20 25  4  4  4  4\n",
      " 20 20  8  8 31  8 13 10 20 20 20 20 13 13 13 13]\n",
      "[16  3 25 25 25 25 16 16  3 34  7 25 16 22  7  7  7  7 27 27 31  6  3  3\n",
      "  3 14 34 34  7 26  7  7  7  7  7 32 27 11 10  0  1 12  1 32 32 12 12 12\n",
      " 12  1 31 23 25 25 25  5 36  7  4 25  8  8  7 25]\n",
      "[ 4 21 20 25 31  1  5  7  3 32 25  4  8 24 16 16  5  5 25 25 25 25  7  7\n",
      " 20 20 16 12  4 34  4  4  4  4 27 27 25 25  5  5  8  8  4  4 32  4 20 20\n",
      " 20 25  5 19  8  8  8 25 25 31 25  8 37 25 25 25]\n",
      "[25 25  4 20  7 20  3  3 12 20 20 20 25  6  6  6  6  6 20 20 20 20 20 10\n",
      " 10 10 10 32 32  6  6 32 32 32 20 32 25 25 32 13 13 13  8  8  5  5  9 15\n",
      "  9  5  5 15  9  5  5  5  5  9 24 31  4  4  7  6]\n",
      "[38 38 38 38  6  6  6  6 38 38  5  5  5  5  5  5  5  5  5  5  5  5  5  8\n",
      "  5  5  5  7  4  7 13 13  7 13 25  7 13  7  7  7  7  7  7  7  7  7  7  7\n",
      "  7  7  7 25  4 32  1  1 24 32 32  4  8 25  4  3]\n",
      "[ 3  3  1  1  1 11 11 11  4 11 25  3 11  4  4  4  3  4 11 23  9  7  3  8\n",
      "  8  8  1 22 11 33  9 10  8  1  1  1  1  1  8  7 11  5  4  7  7  7  3 33\n",
      "  7  3  7 20  7 10 10  7 25 25  7  7 36 20 26 13]\n",
      "[13 10 25 32  3  0  0  7  1  1  4  4 25 38  4 38 38 14  6  6  6  1 25  1\n",
      "  8  6  8 33  3 32 32  1  4  9  9 27 20  1  1  1  1  1  7  4 20 20 31 11\n",
      " 25  3  6  6  6 23 22  4 32 32 32 24 25  3  3  3]\n",
      "[ 3 24 24 11  1 24  7  8  1  7  7  7  7  7  1  1  1  1  1  0  0  0  4  8\n",
      "  8  8  8  8  7  7  7  7 22  4 22 22 25 25  9 10 16 12  4  4 12 10 20  7\n",
      " 20 20 20 20 16 16 16 16 16  1  8 20 20 20 20 11]\n",
      "[ 3 11  5  9  9  9  9  9  9 22  7  9  7  7  1 13 25 25 25 25  5  5  5  5\n",
      "  5  6  6  6 25  4  4  7  7  7  6  6  6  8  8  7  3  3  7  7  7  7  7  7\n",
      "  3  9  9  9  9 31  4  4 31 31 31  4  4  1  1  1]\n",
      "[ 1 25 31  4  4  4  4  4  9 10 10 10 10 10  7  7  7  7 26 13  4 10 10 22\n",
      " 22 22 22 21 21 21 21  6  4  4  7  4  7  7 27  7  7  7  7  7  8  1 20 20\n",
      "  8  8  7  7  7  7  8  8  8  8  1  1  7  7  7  1]\n",
      "[ 1  1  1 20 31  7  7  7  7  7  7 18 32 31 32 20 20  1  6  1 32  7  1  1\n",
      "  1  1  7  1  3 20  7  7  7  7  7  3 32 27 20  7  9 31 31 31 20 20 10  4\n",
      "  5  5  7  7  7  7  7  7 24 24 24 31 37  6  4  4]\n",
      "[ 4  4  8  4  4  4  4 31  8  5  8  8  8 20 20 20 23 23  3 23 12 12 20 20\n",
      "  1  5 25  5 14  1  4  3  9  3  9  9  9  9  9  7  7  6  9  7  7  7  3  9\n",
      "  3  8  8 25 11 11 11 31  7  9  9  9  9 13  4  4]\n",
      "[11 11 11  8  7  7  7  7 31  4  5  3  3 32  8  7  7  7  7  8  7  7  7  7\n",
      " 12  7  7  7 12  9  7  9  9  9  9 25  3 28 18  4 11 11 11 25 25 25 20  4\n",
      " 34 34 34  7  4  1  4  4  7  7  7  7 32  7  0 32]\n",
      "[32 32  7 31 25 31 31  5  9  9  9  1  1 34 20 25 22 20 20 26 28 23 16  4\n",
      "  6  6 10 22 22 22 22  7  7  7 11  8  7 25 25 25 25 25 25 25 25 10 25  4\n",
      " 31 31 31  6  6  6 19 19 19 19  8 14 14 14 32 20]\n",
      "[ 6 20 20 32 20 20  7 20 32 32  7  7  9 32  4  4 32 32  4  4 32  4  6 21\n",
      "  6  6  8 31 31  5 25 25 26  9  7  9  9  9  9  9 25  4  7 16  7  7  7  7\n",
      "  7  7 31 31 31 31 31  1  1  7  8  7  7  7 21 21]\n",
      "[ 1 21 21  1  1  1  1  1  1  1  8  8  1  1  1 25 25 25 23 23 31 31 31 36\n",
      " 36 36 36 36  4  4  3  4 36 36 36 36  4  4  4 23  5  4  4  4 23 18 18 18\n",
      " 18 23 23 23 28  7  4  7  4 18 18 18  1  1  4  4]\n",
      "[ 1  1  1  1  1  1  1  1  1  1  1  5  9  9  1 25 25 25 25 14 14 14 11 11\n",
      " 11 25 25 25  7 32  4  4  4  4  4  4  4  4  4  4  4  4  4 25 16 11  3 34\n",
      " 25 23 23 23 30 30 30 30 30 30  8  8  8  8  8  8]\n",
      "[35 25 25 25 25 31 25 25 11 31 25  1  8  1  1  8  1 25 25 25 25  7 26 26\n",
      " 26 34 34 34 34 13 13 13 13  4  4  4 11  1  1  1  1  1  1  1  7  7  7  7\n",
      "  7 21  7  7  7  7  8  7 17 17 17 21 21 17 17 17]\n",
      "[31 12  9 25  4  9  4 38 11 21 21 21 21 21 21 21  7  7 25 31 38  8 31 31\n",
      "  8  8  8  8  7  7 32 32 32 32 32 32 32 32  4  4  4  4  4  4  6  6  4  7\n",
      "  7  7  7  7  8 31 31 31 31 32 32 32 32 32 32 32]\n",
      "[32 32 32 32  4 31 31 31 31  4  4  4  4 20 34 20 20 20 20 20 20 16 16 16\n",
      "  1 20 20 20 20  3  3  6  4  4  4  4  4  4 16  4  4  4  1  4  4  4  8  8\n",
      "  4  8  8  8  9  9  9  9  9  4 11  3  3  5  8  8]\n",
      "[ 8  1 32  1  6  4  4 25 38 11  4  7  7  7  7 31 31 25 31  1  1  1  8  4\n",
      " 38 38 11  4  4  4 16 16 16 16  3  3  3  4  4  4 11  4  4  4  4 25 32 32\n",
      " 25 31  5 11 31 11 24 16 16 16 16  4 31  7  7  7]\n",
      "[ 1  3  9 20 32 32 20 20 32 32  7 11 11 11 11 20 32  5 16  7  7  7  7  7\n",
      "  7  4 11 18 18 18 18 18 18 18 18 18 18  5  5  5  5  5 20 17 20 20 11 11\n",
      " 11 11 31 25  7  7  4  4 13 25  4  7  7  7 25 25]\n",
      "[ 4  4 14  4  4 24 29 24 15 15 15 15 24 32 16 32  7  7  4 21  4 15 15 15\n",
      " 15 15 15  4  4  4  4  4 23 24 24 24 15 15 15 15 15 31 31 23 23  7  7  7\n",
      "  7  7 25 32 25 25 25 25 31 37 31 37 31 37 31 37]\n",
      "[37 37 37 37 37 37 37 37  7  7  7 18 23 37 23 37 23 23 37  5 23 23 23 23\n",
      " 23 20 20 20 20  1  1  1  1 20 20 20 20 11  7 11 32 20 20 20  4  4 11 12\n",
      " 21  3  3  1  4  8 15 35  7  7  4  4 35 16 35  4]\n",
      "[13  1  1  1  1 11 20 28  4  1  7 18  9  4 11  4  7 26  4  4  9  9  9 32\n",
      " 12 31 31  4  6  4 31  4 16 16 16 16 31  7  1  7  4  4  1  4  4  4 11  7\n",
      " 31 12 12  8 32  0  0 38  4 11 11 11 11 15 32 20]\n",
      "[32  5  9  9 28  4  4 32 20 22  7  9  4 15 14  5 11 12 31 31 31  9  9  9\n",
      "  9 16 32  1 25  9  1  1  1  5 20 20 25  1  7 11 11 11  8  8  1  1  4 19\n",
      " 19 18  9  9 12 28  7  7 32 11 38 13 13 13  7 35]\n",
      "[ 4  4  4 26 16 32  9  3 32 22  8  8  0 32 20 13  7 32 35 35  9 20  7  7\n",
      "  7  9 13 13 13  7  7 25  9  9  9  9  9  9 25 23 23 23 20 31  4  4  4  4\n",
      " 12 21  1  8  8  1  1 16 15 25 31  4  4  4  1  7]\n",
      "[ 7  1  4  1  4  4 19  4 26 23 23 23  7 36  4 36  4  9  9  9  9  8  9 20\n",
      "  9  4  4  4  4  1  0  7  7 31 13 13 14 14  4  4  4  4  4  5 24 25 24 31\n",
      "  7 25  5  8 36  0 23 12 32  4  4  4  4  7 25  7]\n",
      "[31 23 11  8 23 23  4  8  4  8  4  9  9  9  4  4  4 25  4  9 25  9 15 15\n",
      " 15 15  4  4  9  4 25 31 31  5  5 20 32  1 20  4  9  4  4 11 11 11 11 28\n",
      " 26  4 26 26 26 26 23 12 11 11 32 21  8  8 25  8]\n",
      "[31  4 14 20 20  8 32 20 20 20 20  1  7  8  8  1  1 11  4  4 11  4  4  4\n",
      "  4  5  7  5  4 35  8  5  5  5  5 11  4 18  4  4  9  9  7  7  7  0 14 14\n",
      " 14 14  4  4  4  4 23 23 23 23 23 23 23 20 20 20]\n",
      "[ 4  4  9  9  9  9  9  9  9  9  9  9 32 32  4 15  9  9  1  4  4  4  4  4\n",
      "  4  8 25 12 11  4  4  4  9  9  9  9 16 16 25  9  9  9 21 21 21  4  4  3\n",
      " 16 16  1  1  1  1  4  4  4  4  4  4  8 24  8  8]\n",
      "[ 8  8  5 31 25 25 25 25 25 10 25  4 10 10 10  4  4  0  4 34  3 32 22 31\n",
      " 32 22 22 32 32 12  9  9  9  4  4  4  4 12  8 16 14  6 14 11  3 28  4 22\n",
      "  8  4  9  9  5  8  4  8  8  4  4  7  7  7  7  4]\n",
      "[ 4  9  9  9  9  4  4  9  7  7  7 13  5 13 13  6  6  6  9  9  9  9 28  8\n",
      "  4  8  8  8  8  8  8  8  8 25  8 31  4  4  4  4  4  4  4  4  4  4  4  4\n",
      "  4  4  4  4 25 31 25  1  1  1  1  6  6  6  6  5]\n",
      "[ 4  4  4  4  4  4  7  7  7  7  7  7  7  0  7  9  0 32  0  0  0  0  0  0\n",
      "  0 32  0 12 12  7 34 22  7 32  4 17  4  3 14  8 16 25 25 25 25 14 17  3\n",
      "  4  4  4 25  4 25  4  4  4  4 20  9  9  4  9 27]\n",
      "[27  4  4  4  4 20 20 32  4 20 16 16 16 16 16 16 16 16 16 16 12 16 16 32\n",
      " 20  4 32 32 20 20  4  4  4  9  9  9  1  7  7  7  7 31 25 25 25 25 25 22\n",
      " 14 25  9  9  9  9  4  4  4  4  4  4  4 14  4  4]\n",
      "[15  5  5  5  5 15 15  1 15 15 15 15  9 10  9  9  4  4  4  3  4  7 13 11\n",
      " 11 13  7  9 38 13 11  7  7 21 32 21  3  3  3  3 36 36  1  7 20 20 20 20\n",
      "  9  9  9  9  3  8  1  7  1  1  1  1  7 35 32 35]\n",
      "[ 4  4  4  4  4  4  4  4  4  4 15 30 15 15 15 15 15 19 19 19 19  7 22 22\n",
      " 22 20 20 20 20 20 20 25  8  8 20 25 20 19 19 19 19 20 20 20 20  4  4  4\n",
      " 32 32  8  8  8 37  4 31 38  4 31  4 20 37 37 37]\n",
      "[37 13 13 13 13 13 13 13 13  4 19  4  4  8 20  8 20 20 20 20  9  8 25  9\n",
      " 25 25 25 25  8  8  4  4 11 11 11  1  1  1  1  4  7 20 20 32 25  4  8  8\n",
      "  9  9  9  9  9 11 11 11 11  1  1  1  1 32 20 20]\n",
      "[32 20 32  7 20  1  1 32 32 32 32  8  8 31 31  4  4  4  4 22 22 25 25 20\n",
      " 25 31 32 31 16 20 16  4  6  4  6  4 20 12 12 12 12 12  3 32 35 35 35 35\n",
      " 32  4  4  4 25  5  4  4  4  4  9  9 22 22 22  4]\n",
      "[ 4  4  4  6  6  6  6 25 25 25 25  9  9  9  1  4  4  4  4  8  8  8  8  1\n",
      "  1  1  1  1  1  1 23 23 16 16 23 23 23 25 25 25 25 23  4  4  4 23  4  8\n",
      "  8  4  4  4  4 31 23 31 31 31 31 31  7  7 31 31]\n",
      "[31 31  4  4  6  4  7  7  3  4  7  7  7  7 34  4 32 32 20 25  4  4  4  4\n",
      "  7  7  7  7 14 14 12 12 12 12 12 35 35 35 35 35 35  8  8  8  8 20 20 20\n",
      " 20  1  1  8  1  8  8  1  8  1  1  1  1  8  8  8]\n",
      "[ 7 37 31 37 31  8 37  8 37 31 31 31 31  7  7  4  1  8  8  8  8  7  7  7\n",
      "  7 32 20 32 20  9  9  9  9  1  7  7  3  8 27 20  5 20 32 18  5 21  4 31\n",
      " 32 32 32  3 31  8 23  8 25 31 25 25 25 25  9  3]\n",
      "[25  9 11 31  4  4  4  4  8  8  8  8  8 20  6 20 32 20 11 32 11 32  9 20\n",
      "  7  7 20 11 11 11 11 11 20 20 20 32 32 32 32  6 25 31 31 32 32 20 20 32\n",
      "  9  9  9  9  8  8  8  8  4  4  0  4 31  4  5  8]\n",
      "[27  5  4  4 21  5 32 32 32  1 22  5  5  5  5  8  4 26  4 27  4  8  4 25\n",
      "  3 25 20 20 24 32 32 20 32 20 20 20 20 20 20 20  7 20 20 20 32  4  4 25\n",
      " 20  4  4  4  4 25 25 25 25 31  4 31  4  4  4  4]\n",
      "[ 1 30  7  7 30  1  1  1  4  9  7  1  1  1  1  1  4  4  4  4  1  1  1  1\n",
      "  4  4  4  4 20 20 20 20 21 30 21 21 36 36  9 36  4  4  4  4 32 20 11 37\n",
      " 24 11 20 27 11 32 32  9  7  8  4  4  4  1  9  4]\n",
      "[ 9  4  4 32 32  0  8 31 24 24 37 24 37  7  7  7  7  9  9 30 14  9  4  3\n",
      "  1 25 25 20 20  4 20  4  4  4  4  4  4  7  4  4  4  4  4  7  6  8  4 25\n",
      "  4  4  4  8 32 23 32 25 32  4  7  1  5  7  7  7]\n",
      "[ 8  1  1  9  1 15 15 15 23 23 23 15 20  4  4  4  1 20  1 20 13  6  4  4\n",
      "  4  4  4  4 23 32 25 31 16  1  1 16  4  4  4  4 26 23  3  7  4 26  4  7\n",
      " 16 16  7 36 32 36  9 13  8  8  8 11 11 38  4  4]\n",
      "[ 4  4  4  1  1  7  1  7 31  1  1 15  6  6  6  6 16  3 11 11  7 20 11  3\n",
      " 25 31 25  7  7  7  7  1  1  7 31  4  3 27  4  4  4  4  4  4  4  4 22 22\n",
      " 12 12 12  4  4  4  4  4  4 26  7  7  7 16 16  8]\n",
      "[ 4 16 16 16 37 11 20 25 11  4  4  7  7  7  7  7  7 23 19 19 19 23  4  4\n",
      "  4  4  4 21 23  5  5  5  5 31  5  9 14  7 15 11  7  7  8  4  9  8 11 31\n",
      "  8 32  4 37 31 13  4 31 31 11 25 19 20 24 19 20]\n",
      "[ 4  9  7  9  9  9  5 31 11 11 14 23  1  6  1 20 21  7  8  4 32  9 11 20\n",
      " 20  3 20 20  7 15  9  4  4  5  6 16 28 16 16  1 32  1  8 20  4 32 31  4\n",
      " 23 23  8  8  1  5  8  5 25 25  7  7  4  1  7 25]\n",
      "[31 25  7  7 11  1 11  4  4  6 11 26 33 11  1 23  9  4  7 25 25  4 20 20\n",
      "  9  9  9 34  1 38  9  8  7 16 16  4  7  7  9 16  4 20  4  8  8  4 11 20\n",
      " 32  9 11 11 11 11 32  8 11  7 20  7  7  7  7  7]\n",
      "[20 23  7 31  4  4  4  7 12 31 31 32 20 23 23 25  7  9 20  9 23  4  4  4\n",
      " 23 32 32 32 32  1  7  6  9  9 12 12 12  4  4 16  8 10 32 31  9  9  1  9\n",
      "  9  8  4  7  7  9  7  7  7  7  7  7  4  7 34  9]\n",
      "[ 4  4  4  4  1  1 25 25 10  9 31  1  1  7 16  9  9  9  9 20 11  7 32 32\n",
      " 32 25  9 31  9  9  7  4 32  1  7 35 31  7 25  1 25 32  1 25 25  8 20 32\n",
      " 15 26  8 30 32 36  4  4 25 25 25 25 25 25  3  3]\n",
      "[ 3  3 27  4  4  4  4  4  4  4  4  8  8  8  1  3  4 16 31  1  1  1  1 25\n",
      "  7  7  7  7  7  4  4  4  4 25 25 25  8  9  9 20  9 20 25  9  9  9 20 20\n",
      "  4 20  4  4  4 11  4 20  4  4  4 20  7  7  4  7]\n",
      "[ 7  7  7  7 11 11 11  7  7  7  7  1  4  8  8  7  1  1  9  5 20  8  5 21\n",
      " 21 21 21 23 24 23 31 31 31 31 31 20  1  7  7  7 12 37  8  1  7  1  1 16\n",
      " 16 16 16  8  8  8  8  9  1  1  4  8  8  8 31 23]\n",
      "[ 3 16 12 25  1  4  1  4  8  8  8  8  9  7  7 11 32 26 26 21 26 28 28 28\n",
      " 23 12 23 16 23 16  6  1  1  7  7  7  7 12 12 12 12  7  7  7  7  4  4  4\n",
      "  4 20  4  4  4  4 26  1  4  4  1 26 28 28 28 28]\n",
      "[ 4  4  4  4  4  4  8 32 32 32 32 20 20 20 20  7  7  8  8 38 11  4  4 11\n",
      " 25 31 31 31 32 18 20  3  3  3  3  1 25  1 25  7  7  7  7  0  0  0  0  1\n",
      "  1  1  1  1  6 13 13 13 13 20 20 20 20 20  1 25]\n",
      "[25 38  5  1  8  8  4  4  4  6  6  6  6 11 11 11 11 12 12 12 12  8  8  8\n",
      "  8  4 11 11  4  1  1 18 16 20 20 20 31 31 31 31 25 24 24  4  9  9  9  9\n",
      "  4  4  4  4 11 11 11 11 12 12 12 12 14  8  6  8]\n",
      "[ 4  1  4  6 12 12 12 12 12 12 12 12 13  4  4  4  7  7  7  8  8  8  8  8\n",
      "  8  8  8  8  8  8  6 20  4  6  4  6  6  4  4  9  4  4  4  3 21 21 21 21\n",
      "  6  6  6 33  6 22 20 32  1  5  5  5  5 20 10  8]\n",
      "[ 1 20 27  4 11 20 11  4 11  7 20  4  4  4  4  9 31  1  5  6  6  6  6 25\n",
      "  9  5  8 32 32 32 32  9  9  9  9  9  9  9  9  9  9  3  8  3  3  3  3  8\n",
      "  8  8  8  4  4  4  4  3  3  3  3  6  6 15 15 15]\n",
      "[15 31 31 31 31  6  6  8  8  8  8 15  4 12  9  1  1  1  1 28  7  7 15 15\n",
      " 15 15 15 15 15 15  4  4 20 16 32 22 12  9  9  9  9  9  9  9  9  9  9  9\n",
      "  9  9  9  9  4  4  4  5  4  4  4  4  4  5 13  4]\n",
      "[ 4 13  4 13 24 24 24 24 24 24 24 24 10 10 10 10  4  4  4  4 24 24 24 24\n",
      "  6  6  6  6 21  8  5  4  4  4  4 37  8 10 10 10 10 10 10 10 10 25 25 25\n",
      " 25 23 23 23 23  7  4 19 19 19  7  7  7  3  3  3]\n",
      "[ 3  7  7  7  7  3  3  3  3  8  8  8  8 11  7  7  7  7  3  3  3  3  4  4\n",
      "  4  4 13 13 13 13 32  8 31  8 33 33  3  3  3  3  3  3  3  3  8  8  8  8\n",
      "  8 33 33 33 33 33  8  8  5  8  8  8  8  8 33  8]\n",
      "[33  8 25 20  0  6 32  0  0  0  8  8  8  8  0  0  4  4 32 32 32 32  4  4\n",
      "  4  4 32 32 32 20 32 11  7  8 25 11  4  1  1  4  4 30 30 30 30  4 34  4\n",
      "  4  4  4  4  8  8 25 25 30 30 30 30  4  4  4  4]\n",
      "[20 25  4 25 25 25  4  4  4  4 24 24 24 24 20 20  8  8 38 38 38 38 32 32\n",
      " 32 32  8  8  8  8 25 25 25 25 25  3  8 31  1 21 21 30 25 25 25 25 28 28\n",
      " 28 28 28 28 28 28 28 25  7  9  8 19 19 23 24 24]\n",
      "[25 25 25 25 25  1 25 25 25 25 20 20 20 20 20 20 20 19 19 19 19  1  1  1\n",
      "  1  5  5  5  5 11 11 11 11  1  1  1 20  4  4  4  4 19 19 19 19  7  7  7\n",
      " 11  7  7  7  7  7  7  7  8  8  8  8  8  8  8  8]\n",
      "[16 16 16 16 16 16 16 16 10 20  4  4 23 23 23 23 23 25 23 23  3 25  7  7\n",
      "  8 16 16 16 16  0  0  0  0 25 25 25 25  4  4  4  8 31  4 25  8  1  1  1\n",
      "  1  8  8  8 25 25 25 25  8  8  8  8 20 38 24  3]\n",
      "[ 4 12 12 12 12 23 32 32 32 32 11 11 34  8  6  8  7  7  7  7 32 20 31 12\n",
      " 20  8  3  3  1 12 12 12 12  8  8  8  8  8  8  4 25 24  5  8 24 24 24 24\n",
      " 20 20 20 20 20 20 20 20 12  9  4  4 31 31 31 31]\n",
      "[15 15  8  8  8  8 15 15 15 20 32 20 11 32 11 11  5  4 11 11  9  9  9  9\n",
      "  7  7  7  7 32 32 32 32  7  7  7  1  1  1  1  7  7  7 20  1  1  1  1 31\n",
      "  3 21  4  1  1  1  1  4 21 21 15 15 15 15  0  0]\n",
      "[ 0  0 31 25 31 31 20  7  7  1  1  1  1 31  4  9 25  9  9  9  9  6  4 31\n",
      "  4  5  5  5  5 11 11 11 11 11  1  1  1  7  1  1  1  1  1  1  1  1  1 11\n",
      " 11 11 11 14 32 32  3  3  3  3 20  9 36  4  4  5]\n",
      "[ 5 16 16  9  9  9  9  1  1  1  1  1  1  1  4  6  6  4  7  7 32  9 25 25\n",
      " 25 25 24 24 24 24  1  1  1  1  6  6  6  6 24 24 37 37 24 24 24 24  3  3\n",
      "  3  3 37  8 25 37  1  1  4  4  4  4  1 32 32 20]\n",
      "[20 20  7 15 15 15 15  7  7  7  7  4  8  8  8  4  4  1  3  3  3  3  7  7\n",
      "  7  7  6  6  6  6  3  3  3  3  4  4  4  4  4 38 38 38 38 25 25  8 25 38\n",
      " 38 38 38  8  8  8  8  8  4  4  4  4  8  8  8  7]\n",
      "[ 7  7  7 20 20 20 20 32  8  8 23  7  7  7  7  4  8  4  7 25  7 32 11 32\n",
      " 11  0  0  0  0  7  7  7  7 14 27 25  5  6  6  1  1 25 25 25 25 32 32 32\n",
      " 32 25 25 25 25  7  4  4  4  4 30 28 28 28 28 30]\n",
      "[30 31  4  7  4 20 32 32 32 32 32 16 16 16 16  4  4  4  4 32 32 32 32  4\n",
      "  4 11 11  4  8 11  8  4  4  4  4 31  4  4  4  4  4  4  4  4  4  4  4 20\n",
      " 26 26 26 26 20 20 20 13 13 13 13  1  9  9  9  4]\n",
      "[ 1 20 20 20 20  4  4  4  4  9 25 36  4  4  4  4  4  4  4  4  1  1  9  9\n",
      "  9  9  8  8  8  8  9  9  9  9 27 25 25 25  7  7 11  4  8 31 20 32 20  4\n",
      " 32  4  8  1  4  4  4  4  4  4  4  4 11 11 11 11]\n",
      "[13 13 13 13 19 19 19 19  9  9  9  9 11 11 11 11  1  1  1  1  4  4  4  4\n",
      " 28 28 28 28 22 23  1 23  4  4  4  4  4  4 19 19 19 19  4  4  4  4  4  4\n",
      "  4  4  4  4 19 19 19 19 19 19 19 19 19  4  4  4]\n",
      "[ 4  4  9  9  9  9  9 16 16 26  4  4  4  4 26 26 26 11 11  8  4 11 20 20\n",
      "  1  1  1  1 23 23 23 23 32 20 20  8  4  4  1  9  9  9  9  9 11 11 11 11\n",
      "  4  4  4  4  4 16 25 25 25  1  1  1  1 25  5  8]\n",
      "[ 8  8 12 20 25 25 25 25 25 25  4  4  4  4  1  4  1  1 11 11 11 11 20  1\n",
      "  1  1  1  8 26  4 28 26 32  8 31  8  7  7  4 25  7  8  3  7  7  7  7  4\n",
      "  4  4  4  4  6  7  1  1  1  1  1 20 20  4  4  7]\n",
      "[ 7  7  1 25 25 16  4 31 34 13  0  7  7  5 23 23 11 23 36 36 36 36 15 15\n",
      " 15 15  7 20  1 20 20  8 11 11 11 11  8 11 11 11 11 25 25 25 25  4  4  4\n",
      "  4  7  7  0  5 25 25 25 25 25 25 25 25 11 11 11]\n",
      "[11  8  1  1  1 27 27 31  0  4 18 32 32  1  1 22  1 11  4  3 12  5 27 27\n",
      "  5  5  4  4  4  4  8  8  1 31  0  0  0  0  0  0  0  0  9  7  7 35 25  8\n",
      " 25 25 25  8  9  9 34 20  8 20  8 24 24  5 12  1]\n",
      "[ 6 31 20  9  9  9  9 15 15  8 15 15  7  7  7  7  1  1  1  1 20 20 20 20\n",
      "  9  9  9  9  1  1  1  1  4 20  8  4 31 31 31 31  1 25 35 32 15 15 15 15\n",
      "  7  7  7  7 20 20 20 20 31 25 31 25  8 20 20 20]\n",
      "[ 4  4  4  9  4  9  9  9  4 32 31  4 32  7  3 20  4 20 20  9  9  9  9 30\n",
      " 30 30 30 36 31 36 36  4  4  4  4  4  4  4  4 25 25 25 25  6  6  6  6 11\n",
      " 25 25 31 19 19 19 19  8 38 11 38 38 38 38  7  7]\n",
      "[ 7  7 16  3  3 32 18  1  1 20 20  4 21  4  4  4  4  4  4 20 20 20 20  4\n",
      "  4  4  4  4  4  4  4 19 25 25 25 25  1 24 24 24 24  1 20 20 20  4  4 25\n",
      " 25  7  7  7  7 11  5 11 11 11 11 11 11 11  7  3]\n",
      "[19  3  3 19  3 31 31  3  3  3  3 20 20 20 20  9  9  9 32  4  4 23  8  1\n",
      "  1  1 25 25 25 25 20 11 12 12 12 12  9  9  9  9 11 11 11 25  8 11 11 16\n",
      " 11 11 11 11  4  8  8  4  4 13  4  7 20 32 32 32]\n",
      "[32 25 23 25 23  6  5  9 13  4  5  5  5  5 23  9  9  9 10 31 11 25 20 32\n",
      " 20  4  4  4  4  4  4  4  4 21  4  4  4  4  4 32  9 20 25  4  4 13 13 13\n",
      " 13 13 13 11 11 11 11  4  4  4  4  4  4  4  4  4]\n",
      "[ 4  4 23 37 24 37 24 16 16 16 16 31  7  7  7  7  7  7  7  7 37 37 37 37\n",
      " 37 31 31 31 16 25 16  7  7 16 31 31  8  8  8  8  4  4  4  4  4  4  4  4\n",
      " 16 16 16 16  4  4  4  4  8 11  6  4  4  4 23  4]\n",
      "[25 23 23  1  1  1  1  1  4  4  4  4 12 32 32 32 32  1  1  1  1  9  9  9\n",
      "  9 32  4  4  7  1  1  1  1 12 12 12 12 38 38 38 38  3 16  4 15  9 15  9\n",
      "  9  9 15  9  5  5  5 15  4  4  4  4  4  4  4  5]\n",
      "[ 7  7  7  7  7  7  7  7  7 35  4 31  8  8  8  8]\n"
     ]
    }
   ],
   "source": [
    "count = 0\n",
    "for batch in test_dl:\n",
    "    batch_input_tokens = batch[0].to(device)\n",
    "    batch_input_mask = batch[1].to(device)\n",
    "        \n",
    "    with torch.no_grad():\n",
    "        result = model(batch_input_tokens,\n",
    "                           token_type_ids=None, \n",
    "                           attention_mask=batch_input_mask, \n",
    "                           return_dict=True)\n",
    "        \n",
    "        logits = result.logits.detach().numpy()\n",
    "        preds = np.argmax(logits, axis=1).flatten()\n",
    "        print(preds)\n",
    "        results.extend(preds)"
   ]
  },
  {
   "cell_type": "code",
   "execution_count": 13,
   "id": "acd183e7",
   "metadata": {
    "execution": {
     "iopub.execute_input": "2021-11-06T15:59:21.328719Z",
     "iopub.status.busy": "2021-11-06T15:59:21.328094Z",
     "iopub.status.idle": "2021-11-06T15:59:21.332660Z",
     "shell.execute_reply": "2021-11-06T15:59:21.333101Z"
    },
    "papermill": {
     "duration": 0.072039,
     "end_time": "2021-11-06T15:59:21.333270",
     "exception": false,
     "start_time": "2021-11-06T15:59:21.261231",
     "status": "completed"
    },
    "tags": []
   },
   "outputs": [
    {
     "name": "stdout",
     "output_type": "stream",
     "text": [
      "10000\n"
     ]
    }
   ],
   "source": [
    "print(len(results))"
   ]
  },
  {
   "cell_type": "code",
   "execution_count": 14,
   "id": "faab7d7d",
   "metadata": {
    "execution": {
     "iopub.execute_input": "2021-11-06T15:59:21.466977Z",
     "iopub.status.busy": "2021-11-06T15:59:21.465974Z",
     "iopub.status.idle": "2021-11-06T15:59:21.495865Z",
     "shell.execute_reply": "2021-11-06T15:59:21.496418Z"
    },
    "papermill": {
     "duration": 0.09872,
     "end_time": "2021-11-06T15:59:21.496596",
     "exception": false,
     "start_time": "2021-11-06T15:59:21.397876",
     "status": "completed"
    },
    "tags": []
   },
   "outputs": [
    {
     "data": {
      "text/html": [
       "<div>\n",
       "<style scoped>\n",
       "    .dataframe tbody tr th:only-of-type {\n",
       "        vertical-align: middle;\n",
       "    }\n",
       "\n",
       "    .dataframe tbody tr th {\n",
       "        vertical-align: top;\n",
       "    }\n",
       "\n",
       "    .dataframe thead th {\n",
       "        text-align: right;\n",
       "    }\n",
       "</style>\n",
       "<table border=\"1\" class=\"dataframe\">\n",
       "  <thead>\n",
       "    <tr style=\"text-align: right;\">\n",
       "      <th></th>\n",
       "      <th>created_at</th>\n",
       "      <th>test_week</th>\n",
       "      <th>test_id</th>\n",
       "      <th>headline</th>\n",
       "      <th>image_id</th>\n",
       "      <th>excerpt</th>\n",
       "      <th>lede</th>\n",
       "      <th>slug</th>\n",
       "      <th>share_text</th>\n",
       "      <th>share_image</th>\n",
       "      <th>impressions</th>\n",
       "      <th>clicks</th>\n",
       "      <th>first_place</th>\n",
       "      <th>winner</th>\n",
       "    </tr>\n",
       "  </thead>\n",
       "  <tbody>\n",
       "    <tr>\n",
       "      <th>0</th>\n",
       "      <td>2014-11-20</td>\n",
       "      <td>2014-11-17</td>\n",
       "      <td>546d88fb84ad38b2ce000024</td>\n",
       "      <td>They're Being Called 'Walmart's Worst Nightmar...</td>\n",
       "      <td>546d6fa19ad54eec8d00002d</td>\n",
       "      <td>Things that matter. Pass 'em on.</td>\n",
       "      <td>&lt;p&gt;When I saw *why* people are calling them \"W...</td>\n",
       "      <td>theyre-being-called-walmarts-worst-nightmare-a...</td>\n",
       "      <td>Anyone who's ever felt guilty about shopping a...</td>\n",
       "      <td>NaN</td>\n",
       "      <td>3052</td>\n",
       "      <td>150</td>\n",
       "      <td>True</td>\n",
       "      <td>True</td>\n",
       "    </tr>\n",
       "    <tr>\n",
       "      <th>1</th>\n",
       "      <td>2014-11-20</td>\n",
       "      <td>2014-11-17</td>\n",
       "      <td>546d88fb84ad38b2ce000024</td>\n",
       "      <td>They're Being Called 'Walmart's Worst Nightmar...</td>\n",
       "      <td>546d6fa19ad54eec8d00002d</td>\n",
       "      <td>Things that matter. Pass 'em on.</td>\n",
       "      <td>&lt;p&gt;When I saw *why* people are calling them \"W...</td>\n",
       "      <td>theyre-being-called-walmarts-worst-nightmare-a...</td>\n",
       "      <td>Walmart is getting schooled by another retaile...</td>\n",
       "      <td>NaN</td>\n",
       "      <td>3033</td>\n",
       "      <td>122</td>\n",
       "      <td>False</td>\n",
       "      <td>False</td>\n",
       "    </tr>\n",
       "    <tr>\n",
       "      <th>2</th>\n",
       "      <td>2014-11-20</td>\n",
       "      <td>2014-11-17</td>\n",
       "      <td>546d88fb84ad38b2ce000024</td>\n",
       "      <td>They're Being Called 'Walmart's Worst Nightmar...</td>\n",
       "      <td>546d6fa19ad54eec8d00002d</td>\n",
       "      <td>Things that matter. Pass 'em on.</td>\n",
       "      <td>&lt;p&gt;When I saw *why* people are calling them \"W...</td>\n",
       "      <td>theyre-being-called-walmarts-worst-nightmare-a...</td>\n",
       "      <td>Walmart may not be crapping their pants over t...</td>\n",
       "      <td>NaN</td>\n",
       "      <td>3092</td>\n",
       "      <td>110</td>\n",
       "      <td>False</td>\n",
       "      <td>False</td>\n",
       "    </tr>\n",
       "    <tr>\n",
       "      <th>3</th>\n",
       "      <td>2014-11-20</td>\n",
       "      <td>2014-11-17</td>\n",
       "      <td>546d902c26714c6c44000039</td>\n",
       "      <td>This Is What Sexism Against Men Sounds Like</td>\n",
       "      <td>546bc55335992b86c8000043</td>\n",
       "      <td>Things that matter. Pass 'em on.</td>\n",
       "      <td>&lt;p&gt;DISCLOSURE: I'm a dude. I have cried on mul...</td>\n",
       "      <td>this-is-what-sexism-against-men-sounds-like-am...</td>\n",
       "      <td>If you ever wondered, \"but what about the men?...</td>\n",
       "      <td>NaN</td>\n",
       "      <td>3526</td>\n",
       "      <td>90</td>\n",
       "      <td>False</td>\n",
       "      <td>False</td>\n",
       "    </tr>\n",
       "    <tr>\n",
       "      <th>4</th>\n",
       "      <td>2014-11-20</td>\n",
       "      <td>2014-11-17</td>\n",
       "      <td>546d902c26714c6c44000039</td>\n",
       "      <td>This Is What Sexism Against Men Sounds Like</td>\n",
       "      <td>546d900426714cd2dd00002e</td>\n",
       "      <td>Things that matter. Pass 'em on.</td>\n",
       "      <td>&lt;p&gt;DISCLOSURE: I'm a dude. I have cried on mul...</td>\n",
       "      <td>this-is-what-sexism-against-men-sounds-like-am...</td>\n",
       "      <td>If you ever wondered, \"but what about the men?...</td>\n",
       "      <td>NaN</td>\n",
       "      <td>3506</td>\n",
       "      <td>120</td>\n",
       "      <td>True</td>\n",
       "      <td>False</td>\n",
       "    </tr>\n",
       "  </tbody>\n",
       "</table>\n",
       "</div>"
      ],
      "text/plain": [
       "   created_at   test_week                   test_id  \\\n",
       "0  2014-11-20  2014-11-17  546d88fb84ad38b2ce000024   \n",
       "1  2014-11-20  2014-11-17  546d88fb84ad38b2ce000024   \n",
       "2  2014-11-20  2014-11-17  546d88fb84ad38b2ce000024   \n",
       "3  2014-11-20  2014-11-17  546d902c26714c6c44000039   \n",
       "4  2014-11-20  2014-11-17  546d902c26714c6c44000039   \n",
       "\n",
       "                                            headline  \\\n",
       "0  They're Being Called 'Walmart's Worst Nightmar...   \n",
       "1  They're Being Called 'Walmart's Worst Nightmar...   \n",
       "2  They're Being Called 'Walmart's Worst Nightmar...   \n",
       "3        This Is What Sexism Against Men Sounds Like   \n",
       "4        This Is What Sexism Against Men Sounds Like   \n",
       "\n",
       "                   image_id                           excerpt  \\\n",
       "0  546d6fa19ad54eec8d00002d  Things that matter. Pass 'em on.   \n",
       "1  546d6fa19ad54eec8d00002d  Things that matter. Pass 'em on.   \n",
       "2  546d6fa19ad54eec8d00002d  Things that matter. Pass 'em on.   \n",
       "3  546bc55335992b86c8000043  Things that matter. Pass 'em on.   \n",
       "4  546d900426714cd2dd00002e  Things that matter. Pass 'em on.   \n",
       "\n",
       "                                                lede  \\\n",
       "0  <p>When I saw *why* people are calling them \"W...   \n",
       "1  <p>When I saw *why* people are calling them \"W...   \n",
       "2  <p>When I saw *why* people are calling them \"W...   \n",
       "3  <p>DISCLOSURE: I'm a dude. I have cried on mul...   \n",
       "4  <p>DISCLOSURE: I'm a dude. I have cried on mul...   \n",
       "\n",
       "                                                slug  \\\n",
       "0  theyre-being-called-walmarts-worst-nightmare-a...   \n",
       "1  theyre-being-called-walmarts-worst-nightmare-a...   \n",
       "2  theyre-being-called-walmarts-worst-nightmare-a...   \n",
       "3  this-is-what-sexism-against-men-sounds-like-am...   \n",
       "4  this-is-what-sexism-against-men-sounds-like-am...   \n",
       "\n",
       "                                          share_text share_image  impressions  \\\n",
       "0  Anyone who's ever felt guilty about shopping a...         NaN         3052   \n",
       "1  Walmart is getting schooled by another retaile...         NaN         3033   \n",
       "2  Walmart may not be crapping their pants over t...         NaN         3092   \n",
       "3  If you ever wondered, \"but what about the men?...         NaN         3526   \n",
       "4  If you ever wondered, \"but what about the men?...         NaN         3506   \n",
       "\n",
       "   clicks  first_place  winner  \n",
       "0     150         True    True  \n",
       "1     122        False   False  \n",
       "2     110        False   False  \n",
       "3      90        False   False  \n",
       "4     120         True   False  "
      ]
     },
     "execution_count": 14,
     "metadata": {},
     "output_type": "execute_result"
    }
   ],
   "source": [
    "short_df = df.loc[:9999, ['created_at', 'test_week', 'test_id', 'headline', 'image_id', 'excerpt', 'lede', 'slug', 'share_text', 'share_image', 'impressions', 'clicks', 'first_place', 'winner']]\n",
    "short_df.head()"
   ]
  },
  {
   "cell_type": "code",
   "execution_count": 15,
   "id": "03e5e5c3",
   "metadata": {
    "execution": {
     "iopub.execute_input": "2021-11-06T15:59:21.631834Z",
     "iopub.status.busy": "2021-11-06T15:59:21.630798Z",
     "iopub.status.idle": "2021-11-06T15:59:21.635686Z",
     "shell.execute_reply": "2021-11-06T15:59:21.636255Z"
    },
    "papermill": {
     "duration": 0.073921,
     "end_time": "2021-11-06T15:59:21.636434",
     "exception": false,
     "start_time": "2021-11-06T15:59:21.562513",
     "status": "completed"
    },
    "tags": []
   },
   "outputs": [
    {
     "name": "stdout",
     "output_type": "stream",
     "text": [
      "(10000, 14)\n"
     ]
    }
   ],
   "source": [
    "print(short_df.shape)"
   ]
  },
  {
   "cell_type": "code",
   "execution_count": 16,
   "id": "fa69b413",
   "metadata": {
    "execution": {
     "iopub.execute_input": "2021-11-06T15:59:21.776269Z",
     "iopub.status.busy": "2021-11-06T15:59:21.770830Z",
     "iopub.status.idle": "2021-11-06T15:59:21.795191Z",
     "shell.execute_reply": "2021-11-06T15:59:21.794627Z"
    },
    "papermill": {
     "duration": 0.093142,
     "end_time": "2021-11-06T15:59:21.795391",
     "exception": false,
     "start_time": "2021-11-06T15:59:21.702249",
     "status": "completed"
    },
    "tags": []
   },
   "outputs": [
    {
     "name": "stdout",
     "output_type": "stream",
     "text": [
      "POLITICS          1430\n",
      "WOMEN             1069\n",
      "COMEDY             721\n",
      "ENTERTAINMENT      692\n",
      "PARENTS            616\n",
      "QUEER VOICES       597\n",
      "HEALTHY LIVING     589\n",
      "PARENTING          436\n",
      "BUSINESS           421\n",
      "WELLNESS           380\n",
      "IMPACT             287\n",
      "BLACK VOICES       272\n",
      "WEIRD NEWS         247\n",
      "SCIENCE            238\n",
      "GREEN              229\n",
      "TRAVEL             166\n",
      "TASTE              144\n",
      "SPORTS             141\n",
      "MEDIA              125\n",
      "RELIGION           114\n",
      "ARTS & CULTURE     110\n",
      "TECH                94\n",
      "STYLE               89\n",
      "CRIME               85\n",
      "THE WORLDPOST       85\n",
      "COLLEGE             77\n",
      "MONEY               73\n",
      "WEDDINGS            70\n",
      "FOOD & DRINK        67\n",
      "EDUCATION           62\n",
      "WORLDPOST           61\n",
      "DIVORCE             50\n",
      "GOOD NEWS           40\n",
      "STYLE & BEAUTY      40\n",
      "ARTS                38\n",
      "HOME & LIVING       23\n",
      "LATINO VOICES       17\n",
      "FIFTY                4\n",
      "ENVIRONMENT          1\n",
      "Name: cat, dtype: int64\n"
     ]
    }
   ],
   "source": [
    "preds_to_labels = {0: 'CRIME', 1: 'ENTERTAINMENT', 2: 'WORLD NEWS', 3: 'IMPACT', 4: 'POLITICS', 5: 'WEIRD NEWS', 6: 'BLACK VOICES', 7: 'WOMEN', 8: 'COMEDY', 9: 'QUEER VOICES', \n",
    "                   10: 'SPORTS', 11: 'BUSINESS', 12: 'TRAVEL', 13: 'MEDIA', 14: 'TECH', 15: 'RELIGION', 16: 'SCIENCE', 17: 'LATINO VOICES', 18: 'EDUCATION', 19: 'COLLEGE', \n",
    "                   20: 'PARENTS', 21: 'ARTS & CULTURE', 22: 'STYLE', 23: 'GREEN', 24: 'TASTE', 25: 'HEALTHY LIVING', 26: 'THE WORLDPOST', 27: 'GOOD NEWS', 28: 'WORLDPOST', 29: 'FIFTY', \n",
    "                   30: 'ARTS', 31: 'WELLNESS', 32: 'PARENTING', 33: 'HOME & LIVING', 34: 'STYLE & BEAUTY', 35: 'DIVORCE', 36: 'WEDDINGS', 37: 'FOOD & DRINK', 38: 'MONEY', 39: 'ENVIRONMENT', \n",
    "                   40: 'CULTURE & ARTS'}\n",
    "cats = []\n",
    "for i in range(10000):\n",
    "    cats.append(preds_to_labels[results[i]])\n",
    "short_df['cat'] = cats\n",
    "print(short_df['cat'].value_counts())"
   ]
  },
  {
   "cell_type": "code",
   "execution_count": 17,
   "id": "6101e1be",
   "metadata": {
    "execution": {
     "iopub.execute_input": "2021-11-06T15:59:21.935225Z",
     "iopub.status.busy": "2021-11-06T15:59:21.934592Z",
     "iopub.status.idle": "2021-11-06T15:59:22.219000Z",
     "shell.execute_reply": "2021-11-06T15:59:22.218446Z"
    },
    "papermill": {
     "duration": 0.355509,
     "end_time": "2021-11-06T15:59:22.219134",
     "exception": false,
     "start_time": "2021-11-06T15:59:21.863625",
     "status": "completed"
    },
    "tags": []
   },
   "outputs": [
    {
     "data": {
      "text/html": [
       "<a href='out.csv' target='_blank'>out.csv</a><br>"
      ],
      "text/plain": [
       "/kaggle/working/out.csv"
      ]
     },
     "execution_count": 17,
     "metadata": {},
     "output_type": "execute_result"
    }
   ],
   "source": [
    "short_df.to_csv('out.csv')\n",
    "from IPython.display import FileLink\n",
    "FileLink('out.csv')"
   ]
  }
 ],
 "metadata": {
  "kernelspec": {
   "display_name": "Python 3",
   "language": "python",
   "name": "python3"
  },
  "language_info": {
   "codemirror_mode": {
    "name": "ipython",
    "version": 3
   },
   "file_extension": ".py",
   "mimetype": "text/x-python",
   "name": "python",
   "nbconvert_exporter": "python",
   "pygments_lexer": "ipython3",
   "version": "3.7.10"
  },
  "papermill": {
   "default_parameters": {},
   "duration": 861.919312,
   "end_time": "2021-11-06T15:59:25.271127",
   "environment_variables": {},
   "exception": null,
   "input_path": "__notebook__.ipynb",
   "output_path": "__notebook__.ipynb",
   "parameters": {},
   "start_time": "2021-11-06T15:45:03.351815",
   "version": "2.3.3"
  }
 },
 "nbformat": 4,
 "nbformat_minor": 5
}
